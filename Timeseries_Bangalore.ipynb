{
 "cells": [
  {
   "cell_type": "markdown",
   "metadata": {},
   "source": [
    "# Get started with open reproducible science! (API version)"
   ]
  },
  {
   "cell_type": "markdown",
   "metadata": {},
   "source": [
    "__Define Open Reproducible Science:__ Open reproduceible science makes the process of scientific research available to all in a way that anyone can access, understand and iterate the process. This allows to share and colaborate the methods,data, and outcomes easily with transparency. Simply, open reproducible science is a way of doing research which others can access,understand and replicate without any boundation. It makes the entire process transparent and ensures that results are available freely. <br><br>\n",
    "__Choose one of the open source tools that you have learned about (i.e. Shell, Git/GitHub, Jupyter Notebook, Python) and explain how it supports open reproducible science:__ Github provides a platform where we can share and collaborate on our code and discuss issues about it. This course provided me to understand and learn hands on python code with applications in Geospatial domain via Git which is shareable, replicable, and available freely."
   ]
  },
  {
   "cell_type": "markdown",
   "metadata": {},
   "source": [
    "__Does this Jupyter Notebook file have a machine-readable name? Explain your answer.__ <br>\n",
    "Yes, this Jupyter notebook has a machine readable name Reproducible Science! with the extension .ipynb. However, to make the file name easy to read and parse, we should avoid other special charecters except dash or underscore to separate words. The filename has been changed to Bangalore_TimeSeries.ipynb by removing the special charecter '!' and using underscore between the names."
   ]
  }
 ],
 "metadata": {
  "language_info": {
   "name": "python"
  }
 },
 "nbformat": 4,
 "nbformat_minor": 2
}
